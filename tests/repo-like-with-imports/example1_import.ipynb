{
 "cells": [
  {
   "cell_type": "code",
   "execution_count": null,
   "metadata": {},
   "outputs": [],
   "source": [
    "from ipython2cwl.iotypes import CWLFilePathInput, CWLStringInput, CWLFilePathOutput\n",
    "from typing import List\n",
    "import yaml\n",
    "import os\n",
    "\n",
    "import simple_import"
   ]
  },
  {
   "cell_type": "code",
   "execution_count": null,
   "metadata": {},
   "outputs": [],
   "source": [
    "datafilename: CWLFilePathInput = 'data.yaml'\n",
    "messages: List[CWLStringInput] = ['hello', 'world']\n",
    "with open(datafilename) as fd: \n",
    "    data = yaml.safe_load(fd)\n",
    "print(data)"
   ]
  },
  {
   "cell_type": "code",
   "execution_count": null,
   "metadata": {},
   "outputs": [],
   "source": [
    "data['entry1'] += 1"
   ]
  },
  {
   "cell_type": "code",
   "execution_count": null,
   "metadata": {},
   "outputs": [],
   "source": [
    "results_filename: CWLFilePathOutput = 'result.yaml'\n",
    "with open(results_filename, 'w') as fd:\n",
    "    yaml.safe_dump(data, fd)\n",
    "messages_outputs: CWLFilePathOutput = 'messages.txt'\n",
    "with open(messages_outputs, 'w') as f:\n",
    "    f.write(' '.join(messages))"
   ]
  }
 ],
 "metadata": {
  "kernelspec": {
   "display_name": "Python 3",
   "language": "python",
   "name": "python3"
  },
  "language_info": {
   "codemirror_mode": {
    "name": "ipython",
    "version": 3
   },
   "file_extension": ".py",
   "mimetype": "text/x-python",
   "name": "python",
   "nbconvert_exporter": "python",
   "pygments_lexer": "ipython3",
   "version": "3.6.10"
  }
 },
 "nbformat": 4,
 "nbformat_minor": 4
}