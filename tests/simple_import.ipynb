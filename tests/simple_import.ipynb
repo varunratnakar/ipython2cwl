{
 "cells": [
  {
   "cell_type": "code",
   "execution_count": null,
   "metadata": {},
   "outputs": [],
   "source": [
    "import pandas as pd\n",
    "from typing import List, Optional\n",
    "import matplotlib\n",
    "from ipython2cwl.iotypes import CWLFilePathInput, CWLFilePathOutput, CWLStringInput"
   ]
  },
  {
   "cell_type": "code",
   "execution_count": null,
   "metadata": {},
   "outputs": [],
   "source": [
    "dataset: CWLFilePathInput = './data/data.csv'\n",
    "messages: List[CWLStringInput] = ['hello', 'world']\n",
    "optional_message: Optional[CWLStringInput] = \"Hello from optional\""
   ]
  },
  {
   "cell_type": "code",
   "execution_count": null,
   "metadata": {},
   "outputs": [],
   "source": [
    "data = pd.read_csv(dataset)\n",
    "# original data\n",
    "fig = data.plot()\n",
    "\n",
    "original_image: CWLFilePathOutput = 'original_data.png'\n",
    "fig.figure.savefig(original_image)"
   ]
  },
  {
   "cell_type": "code",
   "execution_count": null,
   "metadata": {},
   "outputs": [],
   "source": [
    "# transform data\n",
    "data.sort_values(by='Y', ascending=False, inplace=True, ignore_index=True)\n",
    "fig = data.plot()\n",
    "\n",
    "after_transform_data: CWLFilePathOutput = 'new_data.png'\n",
    "fig.figure.savefig(after_transform_data)"
   ]
  },
  {
   "cell_type": "code",
   "execution_count": null,
   "metadata": {},
   "outputs": [],
   "source": [
    "messages_filename = 'messages.txt'\n",
    "with open(messages_filename, 'w') as f:\n",
    "    f.write(' '.join(messages))"
   ]
  },
  {
   "cell_type": "code",
   "execution_count": null,
   "metadata": {},
   "outputs": [],
   "source": [
    "if optional_message is not None:\n",
    "    print(optional_message)"
   ]
  }
 ],
 "metadata": {
  "kernelspec": {
   "display_name": "Python 3",
   "language": "python",
   "name": "python3"
  },
  "language_info": {
   "codemirror_mode": {
    "name": "ipython",
    "version": 3
   },
   "file_extension": ".py",
   "mimetype": "text/x-python",
   "name": "python",
   "nbconvert_exporter": "python",
   "pygments_lexer": "ipython3",
   "version": "3.6.10"
  }
 },
 "nbformat": 4,
 "nbformat_minor": 1
}